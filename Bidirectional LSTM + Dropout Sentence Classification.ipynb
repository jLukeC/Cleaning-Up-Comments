{
 "cells": [
  {
   "cell_type": "markdown",
   "metadata": {},
   "source": [
    "# Bidirectional LSTM\n",
    "This notebook lays out the Bidirectional LSTM neural network I used to obtain my results. It goes through preprocessing the text data, training the model, and output accuracy & loss graphs."
   ]
  },
  {
   "cell_type": "code",
   "execution_count": 12,
   "metadata": {},
   "outputs": [],
   "source": [
    "import pandas as pd\n",
    "\n",
    "# Read Input\n",
    "\n",
    "train = pd.read_csv('data/train.csv')\n",
    "test = pd.read_csv('data/test.csv')\n",
    "\n",
    "labels = ['toxic', 'severe_toxic', 'obscene', 'threat', 'insult', 'identity_hate']\n",
    "\n",
    "X_train, y_train = train[\"comment_text\"], train[labels]\n",
    "X_test, y_test = test[\"comment_text\"], test[labels]"
   ]
  },
  {
   "cell_type": "code",
   "execution_count": 13,
   "metadata": {},
   "outputs": [],
   "source": [
    "# Model Variables\n",
    "\n",
    "embed_size = 32\n",
    "max_features = 10000\n",
    "maxlen = 200\n",
    "batch_size = 1024\n",
    "\n",
    "dropout = 0.2"
   ]
  },
  {
   "cell_type": "code",
   "execution_count": 14,
   "metadata": {},
   "outputs": [],
   "source": [
    "from keras.preprocessing.text import Tokenizer\n",
    "from keras.preprocessing.sequence import pad_sequences\n",
    "\n",
    "# Preprocess the text\n",
    "\n",
    "tokenizer = Tokenizer(num_words=max_features,lower=True)\n",
    "tokenizer.fit_on_texts(list(X_train))\n",
    "\n",
    "X_train_tok = tokenizer.texts_to_sequences(X_train)\n",
    "X_test_tok = tokenizer.texts_to_sequences(X_test)\n",
    "\n",
    "X_train_padded = pad_sequences(X_train_tok, maxlen=maxlen)\n",
    "X_test_padded = pad_sequences(X_test_tok, maxlen=maxlen)"
   ]
  },
  {
   "cell_type": "code",
   "execution_count": 7,
   "metadata": {},
   "outputs": [
    {
     "name": "stdout",
     "output_type": "stream",
     "text": [
      "Train on 102124 samples, validate on 25532 samples\n",
      "Epoch 1/8\n",
      "101376/102124 [============================>.] - ETA: 1s - loss: 0.2590 - acc: 0.9598\n",
      "Epoch 00001: val_acc improved from -inf to 0.96241, saving model to models/advanced_LSTM_weights_best.hdf5\n",
      "102124/102124 [==============================] - 157s 2ms/step - loss: 0.2582 - acc: 0.9598 - val_loss: 0.1433 - val_acc: 0.9624\n",
      "Epoch 2/8\n",
      "101376/102124 [============================>.] - ETA: 1s - loss: 0.1357 - acc: 0.9637\n",
      "Epoch 00002: val_acc improved from 0.96241 to 0.96244, saving model to models/advanced_LSTM_weights_best.hdf5\n",
      "102124/102124 [==============================] - 155s 2ms/step - loss: 0.1357 - acc: 0.9637 - val_loss: 0.1326 - val_acc: 0.9624\n",
      "Epoch 3/8\n",
      "101376/102124 [============================>.] - ETA: 1s - loss: 0.1048 - acc: 0.9658\n",
      "Epoch 00003: val_acc improved from 0.96244 to 0.96892, saving model to models/advanced_LSTM_weights_best.hdf5\n",
      "102124/102124 [==============================] - 149s 1ms/step - loss: 0.1047 - acc: 0.9658 - val_loss: 0.0817 - val_acc: 0.9689\n",
      "Epoch 4/8\n",
      "101376/102124 [============================>.] - ETA: 1s - loss: 0.0708 - acc: 0.9754\n",
      "Epoch 00004: val_acc improved from 0.96892 to 0.97837, saving model to models/advanced_LSTM_weights_best.hdf5\n",
      "102124/102124 [==============================] - 151s 1ms/step - loss: 0.0708 - acc: 0.9754 - val_loss: 0.0666 - val_acc: 0.9784\n",
      "Epoch 5/8\n",
      "101376/102124 [============================>.] - ETA: 1s - loss: 0.0607 - acc: 0.9796\n",
      "Epoch 00005: val_acc improved from 0.97837 to 0.97945, saving model to models/advanced_LSTM_weights_best.hdf5\n",
      "102124/102124 [==============================] - 148s 1ms/step - loss: 0.0607 - acc: 0.9796 - val_loss: 0.0615 - val_acc: 0.9795\n",
      "Epoch 6/8\n",
      "101376/102124 [============================>.] - ETA: 1s - loss: 0.0550 - acc: 0.9809\n",
      "Epoch 00006: val_acc improved from 0.97945 to 0.97997, saving model to models/advanced_LSTM_weights_best.hdf5\n",
      "102124/102124 [==============================] - 156s 2ms/step - loss: 0.0550 - acc: 0.9809 - val_loss: 0.0585 - val_acc: 0.9800\n",
      "Epoch 7/8\n",
      "101376/102124 [============================>.] - ETA: 1s - loss: 0.0523 - acc: 0.9816\n",
      "Epoch 00007: val_acc improved from 0.97997 to 0.98016, saving model to models/advanced_LSTM_weights_best.hdf5\n",
      "102124/102124 [==============================] - 154s 2ms/step - loss: 0.0523 - acc: 0.9816 - val_loss: 0.0573 - val_acc: 0.9802\n",
      "Epoch 8/8\n",
      "101376/102124 [============================>.] - ETA: 1s - loss: 0.0512 - acc: 0.9818\n",
      "Epoch 00008: val_acc did not improve\n",
      "102124/102124 [==============================] - 147s 1ms/step - loss: 0.0513 - acc: 0.9818 - val_loss: 0.0585 - val_acc: 0.9801\n"
     ]
    }
   ],
   "source": [
    "from keras.layers import Embedding, Dense, LSTM, Bidirectional\n",
    "from keras.models import Sequential\n",
    "from keras.callbacks import ModelCheckpoint\n",
    "\n",
    "# Build the model\n",
    "\n",
    "model = Sequential()\n",
    "model.add(Embedding(max_features,embed_size))\n",
    "model.add(Bidirectional(LSTM(embed_size, dropout = dropout, recurrent_dropout = dropout)))\n",
    "model.add(Dense(len(labels), activation='sigmoid'))\n",
    "\n",
    "model.compile(optimizer='adam', loss='binary_crossentropy', \n",
    "              metrics = ['accuracy'])\n",
    "\n",
    "filepath='models/advanced_LSTM_weights_best.hdf5'\n",
    "checkpoint_callback = ModelCheckpoint(filepath, monitor='val_acc', verbose=1, save_best_only=True, mode='max')\n",
    "\n",
    "history = model.fit(X_train_padded, y_train, epochs = 8, batch_size = batch_size, \n",
    "                    validation_split=0.2, callbacks = [checkpoint_callback])"
   ]
  },
  {
   "cell_type": "code",
   "execution_count": 15,
   "metadata": {},
   "outputs": [
    {
     "name": "stdout",
     "output_type": "stream",
     "text": [
      "31915/31915 [==============================] - 10s 310us/step\n"
     ]
    }
   ],
   "source": [
    "# Predict the test set\n",
    "\n",
    "y_test_predicted = model.predict(X_test_padded, batch_size = batch_size, verbose = 1)\n",
    "\n",
    "test[labels] = y_test_predicted\n",
    "\n",
    "test.to_csv('submissions/test_bidirectional_LSTM.csv', index=False)"
   ]
  },
  {
   "cell_type": "code",
   "execution_count": 9,
   "metadata": {},
   "outputs": [],
   "source": [
    "import matplotlib.pyplot as plt\n",
    "\n",
    "acc = history.history['acc']\n",
    "val_acc = history.history['val_acc']\n",
    "loss = history.history['loss']\n",
    "val_loss = history.history['val_loss']\n",
    "\n",
    "epochs = range(1, len(acc) + 1)"
   ]
  },
  {
   "cell_type": "code",
   "execution_count": 16,
   "metadata": {},
   "outputs": [
    {
     "data": {
      "image/png": "[encoded data removed]",
      "text/plain": [
       "<matplotlib.figure.Figure at 0x1373ba7f0>"
      ]
     },
     "metadata": {},
     "output_type": "display_data"
    }
   ],
   "source": [
    "f = plt.figure()\n",
    "plt.plot(epochs, acc, 'bo', label = 'Training Accuracy')\n",
    "plt.plot(epochs, val_acc, 'b', label = 'Validation Accuracy')\n",
    "plt.title('Bidirectional LSTM Training and Validation Accuracy')\n",
    "plt.legend()\n",
    "f.savefig(\"visuals/biLSTM_accuracy.pdf\")"
   ]
  },
  {
   "cell_type": "code",
   "execution_count": 17,
   "metadata": {},
   "outputs": [
    {
     "data": {
      "image/png": "[encoded data removed]",
      "text/plain": [
       "<matplotlib.figure.Figure at 0x13a1a6438>"
      ]
     },
     "metadata": {},
     "output_type": "display_data"
    }
   ],
   "source": [
    "f = plt.figure()\n",
    "plt.plot(epochs, loss, 'bo', label = 'Training Loss')\n",
    "plt.plot(epochs, val_loss, 'b', label = 'Validation Loss')\n",
    "plt.title('Bidirectional LSTM Training and Validation Loss')\n",
    "plt.legend()\n",
    "f.savefig(\"visuals/biLSTM_loss.pdf\")"
   ]
  },
  {
   "cell_type": "code",
   "execution_count": null,
   "metadata": {},
   "outputs": [],
   "source": []
  }
 ],
 "metadata": {
  "kernelspec": {
   "display_name": "Python 3",
   "language": "python",
   "name": "python3"
  },
  "language_info": {
   "codemirror_mode": {
    "name": "ipython",
    "version": 3
   },
   "file_extension": ".py",
   "mimetype": "text/x-python",
   "name": "python",
   "nbconvert_exporter": "python",
   "pygments_lexer": "ipython3",
   "version": "3.6.3"
  }
 },
 "nbformat": 4,
 "nbformat_minor": 2
}
