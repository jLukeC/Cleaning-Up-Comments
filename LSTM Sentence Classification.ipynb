{
 "cells": [
  {
   "cell_type": "markdown",
   "metadata": {},
   "source": [
    "# LSTM\n",
    "This notebook lays out the LSTM neural network I used to obtain my results. It goes through preprocessing the text data, training the model, and output accuracy & loss graphs."
   ]
  },
  {
   "cell_type": "code",
   "execution_count": 12,
   "metadata": {},
   "outputs": [],
   "source": [
    "import pandas as pd\n",
    "\n",
    "# Read Input\n",
    "\n",
    "train = pd.read_csv('data/train.csv')\n",
    "test = pd.read_csv('data/test.csv')\n",
    "\n",
    "labels = ['toxic', 'severe_toxic', 'obscene', 'threat', 'insult', 'identity_hate']\n",
    "\n",
    "X_train, y_train = train[\"comment_text\"], train[labels]\n",
    "X_test, y_test = test[\"comment_text\"], test[labels]"
   ]
  },
  {
   "cell_type": "code",
   "execution_count": 13,
   "metadata": {},
   "outputs": [],
   "source": [
    "# Model Variables\n",
    "\n",
    "embed_size = 32\n",
    "max_features = 10000\n",
    "maxlen = 200\n",
    "batch_size = 1024"
   ]
  },
  {
   "cell_type": "code",
   "execution_count": 14,
   "metadata": {},
   "outputs": [],
   "source": [
    "from keras.preprocessing.text import Tokenizer\n",
    "from keras.preprocessing.sequence import pad_sequences\n",
    "\n",
    "# Preprocess the text\n",
    "\n",
    "tokenizer = Tokenizer(num_words=max_features,lower=True)\n",
    "tokenizer.fit_on_texts(list(X_train))\n",
    "\n",
    "X_train_tok = tokenizer.texts_to_sequences(X_train)\n",
    "X_test_tok = tokenizer.texts_to_sequences(X_test)\n",
    "\n",
    "X_train_padded = pad_sequences(X_train_tok, maxlen=maxlen)\n",
    "X_test_padded = pad_sequences(X_test_tok, maxlen=maxlen)"
   ]
  },
  {
   "cell_type": "code",
   "execution_count": 4,
   "metadata": {},
   "outputs": [
    {
     "name": "stdout",
     "output_type": "stream",
     "text": [
      "--Text--\n",
      "I am new to this site and I am not sure how to navigate it best.\n",
      "--Tokenized Output--\n",
      "[  0   0   0   0   0   0   0   0   0   0   0   0   0   0   0   0   0   0\n",
      "   0   0   0   0   0   0   0   0   0   0   0   0   0   0   0   0   0   0\n",
      "   0   0   0   0   0   0   0   0   0   0   0   0   0   0   0   0   0   0\n",
      "   0   0   0   0   0   0   0   0   0   0   0   0   0   0   0   0   0   0\n",
      "   0   0   0   0   0   0   0   0   0   0   0   0   0   0   0   0   0   0\n",
      "   0   0   0   0   0   0   0   0   0   0   0   0   0   0   0   0   0   0\n",
      "   0   0   0   0   0   0   0   0   0   0   0   0   0   0   0   0   0   0\n",
      "   0   0   0   0   0   0   0   0   0   0   0   0   0   0   0   0   0   0\n",
      "   0   0   0   0   0   0   0   0   0   0   0   0   0   0   0   0   0   0\n",
      "   0   0   0   0   0   0   0   0   0   0   0   0   0   0   0   0   0   0\n",
      "   0   0   0   0   0   6  71 115   2  13 293   4   6  71  14 192  70   2\n",
      "  11 215]\n"
     ]
    }
   ],
   "source": [
    "# Example of a tokenized input\n",
    "print(\"--Text--\")\n",
    "print(X_train[10])\n",
    "print(\"--Tokenized Output--\")\n",
    "print(X_train_padded[10])"
   ]
  },
  {
   "cell_type": "code",
   "execution_count": 5,
   "metadata": {},
   "outputs": [
    {
     "name": "stdout",
     "output_type": "stream",
     "text": [
      "Train on 102124 samples, validate on 25532 samples\n",
      "Epoch 1/10\n",
      "101376/102124 [============================>.] - ETA: 0s - loss: 0.2969 - acc: 0.9510\n",
      "Epoch 00001: val_acc improved from -inf to 0.96239, saving model to models/basic_LSTM_weights_best.hdf5\n",
      "102124/102124 [==============================] - 60s 588us/step - loss: 0.2957 - acc: 0.9511 - val_loss: 0.1451 - val_acc: 0.9624\n",
      "Epoch 2/10\n",
      "101376/102124 [============================>.] - ETA: 0s - loss: 0.1371 - acc: 0.9637\n",
      "Epoch 00002: val_acc improved from 0.96239 to 0.96254, saving model to models/basic_LSTM_weights_best.hdf5\n",
      "102124/102124 [==============================] - 69s 680us/step - loss: 0.1372 - acc: 0.9637 - val_loss: 0.1360 - val_acc: 0.9625\n",
      "Epoch 3/10\n",
      "101376/102124 [============================>.] - ETA: 0s - loss: 0.1250 - acc: 0.9637\n",
      "Epoch 00003: val_acc improved from 0.96254 to 0.96291, saving model to models/basic_LSTM_weights_best.hdf5\n",
      "102124/102124 [==============================] - 76s 742us/step - loss: 0.1249 - acc: 0.9637 - val_loss: 0.1197 - val_acc: 0.9629\n",
      "Epoch 4/10\n",
      "101376/102124 [============================>.] - ETA: 0s - loss: 0.1040 - acc: 0.9669\n",
      "Epoch 00004: val_acc improved from 0.96291 to 0.96927, saving model to models/basic_LSTM_weights_best.hdf5\n",
      "102124/102124 [==============================] - 81s 795us/step - loss: 0.1038 - acc: 0.9670 - val_loss: 0.0920 - val_acc: 0.9693\n",
      "Epoch 5/10\n",
      "101376/102124 [============================>.] - ETA: 0s - loss: 0.0754 - acc: 0.9743\n",
      "Epoch 00005: val_acc improved from 0.96927 to 0.97122, saving model to models/basic_LSTM_weights_best.hdf5\n",
      "102124/102124 [==============================] - 86s 843us/step - loss: 0.0754 - acc: 0.9744 - val_loss: 0.0955 - val_acc: 0.9712\n",
      "Epoch 6/10\n",
      "101376/102124 [============================>.] - ETA: 0s - loss: 0.0765 - acc: 0.9752\n",
      "Epoch 00006: val_acc improved from 0.97122 to 0.97677, saving model to models/basic_LSTM_weights_best.hdf5\n",
      "102124/102124 [==============================] - 85s 830us/step - loss: 0.0764 - acc: 0.9753 - val_loss: 0.0724 - val_acc: 0.9768\n",
      "Epoch 7/10\n",
      "101376/102124 [============================>.] - ETA: 0s - loss: 0.0626 - acc: 0.9790\n",
      "Epoch 00007: val_acc improved from 0.97677 to 0.97803, saving model to models/basic_LSTM_weights_best.hdf5\n",
      "102124/102124 [==============================] - 85s 829us/step - loss: 0.0626 - acc: 0.9790 - val_loss: 0.0647 - val_acc: 0.9780\n",
      "Epoch 8/10\n",
      "101376/102124 [============================>.] - ETA: 0s - loss: 0.0577 - acc: 0.9802\n",
      "Epoch 00008: val_acc improved from 0.97803 to 0.97899, saving model to models/basic_LSTM_weights_best.hdf5\n",
      "102124/102124 [==============================] - 85s 832us/step - loss: 0.0577 - acc: 0.9802 - val_loss: 0.0627 - val_acc: 0.9790\n",
      "Epoch 9/10\n",
      "101376/102124 [============================>.] - ETA: 0s - loss: 0.0586 - acc: 0.9802\n",
      "Epoch 00009: val_acc improved from 0.97899 to 0.97901, saving model to models/basic_LSTM_weights_best.hdf5\n",
      "102124/102124 [==============================] - 72s 707us/step - loss: 0.0587 - acc: 0.9802 - val_loss: 0.0626 - val_acc: 0.9790\n",
      "Epoch 10/10\n",
      "101376/102124 [============================>.] - ETA: 0s - loss: 0.0536 - acc: 0.9813\n",
      "Epoch 00010: val_acc improved from 0.97901 to 0.97935, saving model to models/basic_LSTM_weights_best.hdf5\n",
      "102124/102124 [==============================] - 69s 674us/step - loss: 0.0535 - acc: 0.9813 - val_loss: 0.0609 - val_acc: 0.9794\n"
     ]
    }
   ],
   "source": [
    "from keras.layers import Embedding, Dense, LSTM\n",
    "from keras.models import Sequential\n",
    "from keras.callbacks import ModelCheckpoint\n",
    "\n",
    "# Build the model\n",
    "\n",
    "model = Sequential()\n",
    "model.add(Embedding(max_features,embed_size))\n",
    "model.add(LSTM(embed_size))\n",
    "model.add(Dense(len(labels), activation='sigmoid'))\n",
    "\n",
    "model.compile(optimizer='adam', loss='binary_crossentropy', \n",
    "              metrics = ['accuracy'])\n",
    "\n",
    "filepath='models/basic_LSTM_weights_best.hdf5'\n",
    "checkpoint_callback = ModelCheckpoint(filepath, monitor='val_acc', verbose=1, save_best_only=True, mode='max')\n",
    "\n",
    "history = model.fit(X_train_padded, y_train, epochs = 10, batch_size = batch_size, \n",
    "                    validation_split=0.2, callbacks = [checkpoint_callback])"
   ]
  },
  {
   "cell_type": "code",
   "execution_count": 15,
   "metadata": {},
   "outputs": [
    {
     "name": "stdout",
     "output_type": "stream",
     "text": [
      "31915/31915 [==============================] - 5s 171us/step\n"
     ]
    }
   ],
   "source": [
    "# Predict the test set\n",
    "\n",
    "y_test_predicted = model.predict(X_test_padded, batch_size = batch_size, verbose = 1)\n",
    "\n",
    "test[labels] = y_test_predicted\n",
    "\n",
    "test.to_csv('submissions/test_basic_LSTM.csv', index=False)"
   ]
  },
  {
   "cell_type": "code",
   "execution_count": 16,
   "metadata": {},
   "outputs": [],
   "source": [
    "import matplotlib.pyplot as plt\n",
    "\n",
    "acc = history.history['acc']\n",
    "val_acc = history.history['val_acc']\n",
    "loss = history.history['loss']\n",
    "val_loss = history.history['val_loss']\n",
    "\n",
    "epochs = range(1, len(acc) + 1)"
   ]
  },
  {
   "cell_type": "code",
   "execution_count": 21,
   "metadata": {},
   "outputs": [
    {
     "data": {
      "image/png": "[encoded data removed]",
      "text/plain": [
       "<matplotlib.figure.Figure at 0x11543cc88>"
      ]
     },
     "metadata": {},
     "output_type": "display_data"
    }
   ],
   "source": [
    "f = plt.figure()\n",
    "plt.plot(epochs, acc, 'bo', label = 'Training Accuracy')\n",
    "plt.plot(epochs, val_acc, 'b', label = 'Validation Accuracy')\n",
    "plt.title('LSTM Training and Validation Accuracy')\n",
    "plt.legend()\n",
    "f.savefig(\"visuals/LSTM_accuracy.pdf\")"
   ]
  },
  {
   "cell_type": "code",
   "execution_count": 20,
   "metadata": {},
   "outputs": [
    {
     "data": {
      "image/png": "[encoded data removed]",
      "text/plain": [
       "<matplotlib.figure.Figure at 0x1143f5278>"
      ]
     },
     "metadata": {},
     "output_type": "display_data"
    }
   ],
   "source": [
    "f = plt.figure()\n",
    "plt.plot(epochs, loss, 'bo', label = 'Training Loss')\n",
    "plt.plot(epochs, val_loss, 'b', label = 'Validation Loss')\n",
    "plt.title('LSTM Training and Validation Loss')\n",
    "plt.legend()\n",
    "f.savefig(\"visuals/LSTM_loss.pdf\")"
   ]
  },
  {
   "cell_type": "code",
   "execution_count": null,
   "metadata": {},
   "outputs": [],
   "source": []
  }
 ],
 "metadata": {
  "kernelspec": {
   "display_name": "Python 3",
   "language": "python",
   "name": "python3"
  },
  "language_info": {
   "codemirror_mode": {
    "name": "ipython",
    "version": 3
   },
   "file_extension": ".py",
   "mimetype": "text/x-python",
   "name": "python",
   "nbconvert_exporter": "python",
   "pygments_lexer": "ipython3",
   "version": "3.6.3"
  }
 },
 "nbformat": 4,
 "nbformat_minor": 2
}
