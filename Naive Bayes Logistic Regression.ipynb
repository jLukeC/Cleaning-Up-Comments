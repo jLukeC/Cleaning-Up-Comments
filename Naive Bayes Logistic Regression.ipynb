{
 "cells": [
  {
   "cell_type": "markdown",
   "metadata": {},
   "source": [
    "# Naive Bayes + Logistic Regression\n",
    "This model is based on [Jeremy Howard's take on NB+SVM](https://www.youtube.com/watch?v=37sFIak42Sc&feature=youtu.be&t=3745). The notebook preprocesses the data, trains a model, then outputs the top 20 most informative word features"
   ]
  },
  {
   "cell_type": "code",
   "execution_count": 1,
   "metadata": {},
   "outputs": [],
   "source": [
    "import pandas as pd, numpy as np\n",
    "from sklearn.linear_model import LogisticRegression\n",
    "from sklearn.feature_extraction.text import CountVectorizer, TfidfVectorizer"
   ]
  },
  {
   "cell_type": "code",
   "execution_count": 2,
   "metadata": {},
   "outputs": [],
   "source": [
    "train = pd.read_csv('data/train.csv')\n",
    "test = pd.read_csv('data/test.csv')"
   ]
  },
  {
   "cell_type": "code",
   "execution_count": 3,
   "metadata": {},
   "outputs": [
    {
     "data": {
      "text/plain": [
       "(31915, 8)"
      ]
     },
     "execution_count": 3,
     "metadata": {},
     "output_type": "execute_result"
    }
   ],
   "source": [
    "label_cols = ['toxic', 'severe_toxic', 'obscene', 'threat', 'insult', 'identity_hate']\n",
    "train['none'] = 1-train[label_cols].max(axis=1)\n",
    "test.shape"
   ]
  },
  {
   "cell_type": "code",
   "execution_count": 4,
   "metadata": {},
   "outputs": [],
   "source": [
    "COMMENT = 'comment_text'\n",
    "train[COMMENT].fillna(\"unknown\", inplace=True)\n",
    "test[COMMENT].fillna(\"unknown\", inplace=True)"
   ]
  },
  {
   "cell_type": "code",
   "execution_count": 5,
   "metadata": {},
   "outputs": [],
   "source": [
    "import re, string\n",
    "re_tok = re.compile(f'([{string.punctuation}“”¨«»®´·º½¾¿¡§£₤‘’])')\n",
    "def tokenize(s): return re_tok.sub(r' \\1 ', s).split()"
   ]
  },
  {
   "cell_type": "code",
   "execution_count": 6,
   "metadata": {},
   "outputs": [],
   "source": [
    "n = train.shape[0]\n",
    "vec = CountVectorizer()\n",
    "trn_term_doc = vec.fit_transform(train[COMMENT])\n",
    "test_term_doc = vec.transform(test[COMMENT])"
   ]
  },
  {
   "cell_type": "code",
   "execution_count": 7,
   "metadata": {},
   "outputs": [
    {
     "data": {
      "text/plain": [
       "(<127656x166430 sparse matrix of type '<class 'numpy.int64'>'\n",
       " \twith 5559667 stored elements in Compressed Sparse Row format>,\n",
       " <31915x166430 sparse matrix of type '<class 'numpy.int64'>'\n",
       " \twith 1365662 stored elements in Compressed Sparse Row format>)"
      ]
     },
     "execution_count": 7,
     "metadata": {},
     "output_type": "execute_result"
    }
   ],
   "source": [
    "trn_term_doc, test_term_doc"
   ]
  },
  {
   "cell_type": "code",
   "execution_count": 8,
   "metadata": {},
   "outputs": [],
   "source": [
    "def pr(y_i, y):\n",
    "    p = x[y==y_i].sum(0)\n",
    "    return (p+1) / ((y==y_i).sum()+1)"
   ]
  },
  {
   "cell_type": "code",
   "execution_count": 9,
   "metadata": {},
   "outputs": [],
   "source": [
    "x = trn_term_doc\n",
    "test_x = test_term_doc"
   ]
  },
  {
   "cell_type": "code",
   "execution_count": 10,
   "metadata": {},
   "outputs": [],
   "source": [
    "def get_mdl(y):\n",
    "    y = y.values\n",
    "    r = np.log(pr(1,y) / pr(0,y))\n",
    "    m = LogisticRegression(C=4, dual=True)\n",
    "    x_nb = x.multiply(r)\n",
    "    return m.fit(x_nb, y), r"
   ]
  },
  {
   "cell_type": "code",
   "execution_count": 11,
   "metadata": {},
   "outputs": [
    {
     "name": "stdout",
     "output_type": "stream",
     "text": [
      "fit toxic\n",
      "fit severe_toxic\n",
      "fit obscene\n",
      "fit threat\n"
     ]
    },
    {
     "name": "stderr",
     "output_type": "stream",
     "text": [
      "/usr/local/Cellar/python3/3.6.3/Frameworks/Python.framework/Versions/3.6/lib/python3.6/site-packages/sklearn/linear_model/base.py:340: RuntimeWarning: overflow encountered in exp\n",
      "  np.exp(prob, prob)\n"
     ]
    },
    {
     "name": "stdout",
     "output_type": "stream",
     "text": [
      "fit insult\n",
      "fit identity_hate\n"
     ]
    }
   ],
   "source": [
    "preds = np.zeros((len(test), len(label_cols)))\n",
    "models = []\n",
    "for i, j in enumerate(label_cols):\n",
    "    print('fit', j)\n",
    "    m,r = get_mdl(train[j])\n",
    "    models.append(m)\n",
    "    preds[:,i] = m.predict_proba(test_x.multiply(r))[:,1]"
   ]
  },
  {
   "cell_type": "code",
   "execution_count": 12,
   "metadata": {},
   "outputs": [],
   "source": [
    "test[label_cols] = preds\n",
    "test.to_csv('submissions/test_nblr_count.csv')"
   ]
  },
  {
   "cell_type": "code",
   "execution_count": 13,
   "metadata": {},
   "outputs": [],
   "source": [
    "def show_most_informative_features(vectorizer, clf, n=20):\n",
    "    feature_names = vectorizer.get_feature_names()\n",
    "    coefs_with_fns = sorted(zip(clf.coef_[0], feature_names))\n",
    "    top = zip(coefs_with_fns[:n], coefs_with_fns[:-(n + 1):-1])\n",
    "    for (coef_1, fn_1), (coef_2, fn_2) in top:\n",
    "        print(coef_1, fn_1, coef_2, fn_2)"
   ]
  },
  {
   "cell_type": "markdown",
   "metadata": {},
   "source": [
    "# Most informative 6 features with wieght coefficients"
   ]
  },
  {
   "cell_type": "code",
   "execution_count": 14,
   "metadata": {},
   "outputs": [
    {
     "name": "stdout",
     "output_type": "stream",
     "text": [
      "-------toxic-------\n",
      "-4.80350473962 cool 5.4182601344 ridiculous\n",
      "-4.6892747789 dx927 4.91705302848 adam\n",
      "-4.18697595893 lynched 4.68495943295 frequent\n",
      "-3.78003258938 ashabat 4.34131818615 sockpuppet\n",
      "-3.42302211904 weve 4.17585825183 inapproriate\n",
      "-3.29427655492 estogen 4.01281062899 nonsense\n",
      "-------severe_toxic-------\n",
      "-3.88351460731 californiaalibaba 2.8153360603 is\n",
      "-3.33863164384 queer 2.42564482972 newcomer\n",
      "-3.00727719151 misterwiki 2.42274167774 retardeds\n",
      "-2.72933222774 motherfuck 2.41115701695 sexless\n",
      "-2.71613389699 sasayama 2.40606018073 create\n",
      "-2.50919108452 departed 2.36978975341 mostly\n",
      "-------obscene-------\n",
      "-8.63580867538 eats 4.17340457977 worldwide\n",
      "-6.64699268959 halberg 4.14657783591 participation\n",
      "-5.87609082306 youngamerican 3.97799818308 von\n",
      "-5.65082153384 bradbury 3.2320449831 sex\n",
      "-5.3461866163 vbutt 3.17670460022 xxx\n",
      "-4.52363487647 abysmal 3.00664667134 american\n",
      "-------threat-------\n",
      "-4.95100074607 bleachanhero 2.56818026989 killing\n",
      "-2.41702893175 nigga 2.31558795795 earthquake\n",
      "-1.87772888348 cookie 2.2522450881 sitush\n",
      "-1.80080410315 choke 2.24861264972 hang\n",
      "-1.78849013202 and 2.14893775168 bowel\n",
      "-1.6946107018 suicidal 2.11550356544 hot\n",
      "-------insult-------\n",
      "-9.05535441856 californiaalibaba 5.66586106343 am\n",
      "-5.60368332652 youe 5.10368729335 retardedyour\n",
      "-5.08602543355 trip 4.77401749546 gg\n",
      "-4.70198443048 amadeus 4.70513691865 reversion\n",
      "-4.28538104501 cunthole 4.17509642979 theories\n",
      "-4.13915148857 motherfu 3.9883886707 input\n",
      "-------identity_hate-------\n",
      "-5.36519618904 delanoy 6.51927667233 am\n",
      "-2.15030182814 hiding 5.53121137483 super\n",
      "-1.99354683803 assad 3.70666178865 sexual\n",
      "-1.93095119331 atheist 2.89514027225 wikipeida\n",
      "-1.92418324164 always 2.73288166444 country\n",
      "-1.70219403924 nazism 2.59786046362 barack\n"
     ]
    }
   ],
   "source": [
    "for i,model in enumerate(models):\n",
    "    print(\"-------\" + label_cols[i] + \"-------\")\n",
    "    show_most_informative_features(vec,model,6)"
   ]
  },
  {
   "cell_type": "code",
   "execution_count": 32,
   "metadata": {},
   "outputs": [],
   "source": [
    "def print_top10(vectorizer, clf, class_labels):\n",
    "    \"\"\"Prints features with the highest coefficient values, per class\"\"\"\n",
    "    feature_names = vectorizer.get_feature_names()\n",
    "    for i, class_label in enumerate(class_labels):\n",
    "        top10 = np.argsort(clf.coef_[i])[-20:]\n",
    "        print(\", \".join(feature_names[j] for j in reversed(top10)))"
   ]
  },
  {
   "cell_type": "markdown",
   "metadata": {},
   "source": [
    "# 20 Most informative features for each label\n",
    "This output is used to create the word features table in the paper."
   ]
  },
  {
   "cell_type": "code",
   "execution_count": 33,
   "metadata": {},
   "outputs": [
    {
     "name": "stdout",
     "output_type": "stream",
     "text": [
      "-------toxic-------\n",
      "ridiculous, adam, frequent, sockpuppet, inapproriate, nonsense, swift, bluesband, transferred, 24hrs, sarcastic, abstain, awkward, implement, expire, nambla, bespoke, rubbish, saxmunds, silly\n",
      "-------severe_toxic-------\n",
      "is, newcomer, retardeds, sexless, create, mostly, duded, condescending, bandwidth, garbage, hanging, uneducated, words, tasty, indrian, infinite, wolfkeeper, stick, insurance, tempted\n",
      "-------obscene-------\n",
      "worldwide, participation, von, sex, xxx, american, wouldn, infinitely, tawker, muthafuckaa, tuesday, danger, moron, stories, reversion, value, puss, fegget, 2014, horseshit\n",
      "-------threat-------\n",
      "killing, earthquake, sitush, hang, bowel, hot, shoulder, 6ft, cut, trying, introducing, children, happen, dies, dammed, ll, jews, wh, 210, bw\n",
      "-------insult-------\n",
      "am, retardedyour, gg, reversion, theories, input, protestant, edjohnston, sloppy, title82, rubbish, warmongering, revandalising, quotemining, fucky, browsed, participation, worldwide, infinitely, rescind\n",
      "-------identity_hate-------\n",
      "am, super, sexual, wikipeida, country, barack, filled, israeli, communist, shanghai, vegans, dutch, sized, expunged, brahmin, whitewash, transgender, morgan, niggaz, polar\n"
     ]
    }
   ],
   "source": [
    "for i,model in enumerate(models):\n",
    "    print(\"-------\" + label_cols[i] + \"-------\")\n",
    "    print_top10(vec,model,[0])"
   ]
  }
 ],
 "metadata": {
  "kernelspec": {
   "display_name": "Python 3",
   "language": "python",
   "name": "python3"
  },
  "language_info": {
   "codemirror_mode": {
    "name": "ipython",
    "version": 3
   },
   "file_extension": ".py",
   "mimetype": "text/x-python",
   "name": "python",
   "nbconvert_exporter": "python",
   "pygments_lexer": "ipython3",
   "version": "3.6.3"
  }
 },
 "nbformat": 4,
 "nbformat_minor": 2
}
